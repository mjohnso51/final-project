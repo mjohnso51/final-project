{
 "cells": [
  {
   "cell_type": "code",
   "execution_count": 1,
   "id": "68438aff",
   "metadata": {},
   "outputs": [],
   "source": [
    "# Import Dependencies\n",
    "import pandas as pd\n",
    "import numpy as np\n",
    "from sklearn.model_selection import train_test_split\n",
    "from sklearn.linear_model import LinearRegression\n",
    "from sklearn.metrics import mean_squared_error, r2_score"
   ]
  },
  {
   "cell_type": "code",
   "execution_count": 2,
   "id": "282584ce",
   "metadata": {},
   "outputs": [
    {
     "data": {
      "text/html": [
       "<div>\n",
       "<style scoped>\n",
       "    .dataframe tbody tr th:only-of-type {\n",
       "        vertical-align: middle;\n",
       "    }\n",
       "\n",
       "    .dataframe tbody tr th {\n",
       "        vertical-align: top;\n",
       "    }\n",
       "\n",
       "    .dataframe thead th {\n",
       "        text-align: right;\n",
       "    }\n",
       "</style>\n",
       "<table border=\"1\" class=\"dataframe\">\n",
       "  <thead>\n",
       "    <tr style=\"text-align: right;\">\n",
       "      <th></th>\n",
       "      <th>Date</th>\n",
       "      <th>Close/Last</th>\n",
       "      <th>Volume</th>\n",
       "      <th>Open</th>\n",
       "      <th>High</th>\n",
       "      <th>Low</th>\n",
       "    </tr>\n",
       "  </thead>\n",
       "  <tbody>\n",
       "    <tr>\n",
       "      <th>0</th>\n",
       "      <td>09/11/2023</td>\n",
       "      <td>$6.04</td>\n",
       "      <td>3519954.0</td>\n",
       "      <td>$6.26</td>\n",
       "      <td>$6.35</td>\n",
       "      <td>$6.03</td>\n",
       "    </tr>\n",
       "    <tr>\n",
       "      <th>1</th>\n",
       "      <td>09/08/2023</td>\n",
       "      <td>$6.20</td>\n",
       "      <td>2350360.0</td>\n",
       "      <td>$6.30</td>\n",
       "      <td>$6.335</td>\n",
       "      <td>$6.14</td>\n",
       "    </tr>\n",
       "    <tr>\n",
       "      <th>2</th>\n",
       "      <td>09/07/2023</td>\n",
       "      <td>$6.32</td>\n",
       "      <td>2504603.0</td>\n",
       "      <td>$6.29</td>\n",
       "      <td>$6.36</td>\n",
       "      <td>$6.06</td>\n",
       "    </tr>\n",
       "    <tr>\n",
       "      <th>3</th>\n",
       "      <td>09/06/2023</td>\n",
       "      <td>$6.41</td>\n",
       "      <td>2040159.0</td>\n",
       "      <td>$6.51</td>\n",
       "      <td>$6.58</td>\n",
       "      <td>$6.30</td>\n",
       "    </tr>\n",
       "    <tr>\n",
       "      <th>4</th>\n",
       "      <td>09/05/2023</td>\n",
       "      <td>$6.53</td>\n",
       "      <td>2943792.0</td>\n",
       "      <td>$6.31</td>\n",
       "      <td>$6.595</td>\n",
       "      <td>$6.29</td>\n",
       "    </tr>\n",
       "  </tbody>\n",
       "</table>\n",
       "</div>"
      ],
      "text/plain": [
       "         Date Close/Last     Volume   Open    High    Low\n",
       "0  09/11/2023      $6.04  3519954.0  $6.26   $6.35  $6.03\n",
       "1  09/08/2023      $6.20  2350360.0  $6.30  $6.335  $6.14\n",
       "2  09/07/2023      $6.32  2504603.0  $6.29   $6.36  $6.06\n",
       "3  09/06/2023      $6.41  2040159.0  $6.51   $6.58  $6.30\n",
       "4  09/05/2023      $6.53  2943792.0  $6.31  $6.595  $6.29"
      ]
     },
     "execution_count": 2,
     "metadata": {},
     "output_type": "execute_result"
    }
   ],
   "source": [
    "# Read in CSV\n",
    "rklb = pd.read_csv(\"C:\\\\Users\\\\cello\\\\Git\\\\final-project\\\\Resources\\\\rklb-price.csv\")\n",
    "rklb.head()"
   ]
  },
  {
   "cell_type": "code",
   "execution_count": 3,
   "id": "9b6e3f3e",
   "metadata": {},
   "outputs": [
    {
     "name": "stderr",
     "output_type": "stream",
     "text": [
      "C:\\Users\\cello\\AppData\\Local\\Temp\\ipykernel_19520\\310125937.py:2: FutureWarning: The default value of regex will change from True to False in a future version. In addition, single character regular expressions will *not* be treated as literal strings when regex=True.\n",
      "  rklb['Close/Last'] = rklb['Close/Last'].str.replace('$', '').astype(float)\n",
      "C:\\Users\\cello\\AppData\\Local\\Temp\\ipykernel_19520\\310125937.py:3: FutureWarning: The default value of regex will change from True to False in a future version. In addition, single character regular expressions will *not* be treated as literal strings when regex=True.\n",
      "  rklb['Open'] = rklb['Open'].str.replace('$', '').astype(float)\n",
      "C:\\Users\\cello\\AppData\\Local\\Temp\\ipykernel_19520\\310125937.py:4: FutureWarning: The default value of regex will change from True to False in a future version. In addition, single character regular expressions will *not* be treated as literal strings when regex=True.\n",
      "  rklb['High'] = rklb['High'].str.replace('$', '').astype(float)\n",
      "C:\\Users\\cello\\AppData\\Local\\Temp\\ipykernel_19520\\310125937.py:5: FutureWarning: The default value of regex will change from True to False in a future version. In addition, single character regular expressions will *not* be treated as literal strings when regex=True.\n",
      "  rklb['Low'] = rklb['Low'].str.replace('$', '').astype(float)\n"
     ]
    }
   ],
   "source": [
    "# Convert prices to float\n",
    "rklb['Close/Last'] = rklb['Close/Last'].str.replace('$', '').astype(float)\n",
    "rklb['Open'] = rklb['Open'].str.replace('$', '').astype(float)\n",
    "rklb['High'] = rklb['High'].str.replace('$', '').astype(float)\n",
    "rklb['Low'] = rklb['Low'].str.replace('$', '').astype(float)"
   ]
  },
  {
   "cell_type": "code",
   "execution_count": 4,
   "id": "603414ce",
   "metadata": {},
   "outputs": [
    {
     "data": {
      "text/html": [
       "<div>\n",
       "<style scoped>\n",
       "    .dataframe tbody tr th:only-of-type {\n",
       "        vertical-align: middle;\n",
       "    }\n",
       "\n",
       "    .dataframe tbody tr th {\n",
       "        vertical-align: top;\n",
       "    }\n",
       "\n",
       "    .dataframe thead th {\n",
       "        text-align: right;\n",
       "    }\n",
       "</style>\n",
       "<table border=\"1\" class=\"dataframe\">\n",
       "  <thead>\n",
       "    <tr style=\"text-align: right;\">\n",
       "      <th></th>\n",
       "      <th>Date</th>\n",
       "      <th>Close/Last</th>\n",
       "      <th>Volume</th>\n",
       "      <th>Open</th>\n",
       "      <th>High</th>\n",
       "      <th>Low</th>\n",
       "    </tr>\n",
       "  </thead>\n",
       "  <tbody>\n",
       "    <tr>\n",
       "      <th>0</th>\n",
       "      <td>09/11/2023</td>\n",
       "      <td>6.04</td>\n",
       "      <td>3519954.0</td>\n",
       "      <td>6.26</td>\n",
       "      <td>6.350</td>\n",
       "      <td>6.03</td>\n",
       "    </tr>\n",
       "    <tr>\n",
       "      <th>1</th>\n",
       "      <td>09/08/2023</td>\n",
       "      <td>6.20</td>\n",
       "      <td>2350360.0</td>\n",
       "      <td>6.30</td>\n",
       "      <td>6.335</td>\n",
       "      <td>6.14</td>\n",
       "    </tr>\n",
       "    <tr>\n",
       "      <th>2</th>\n",
       "      <td>09/07/2023</td>\n",
       "      <td>6.32</td>\n",
       "      <td>2504603.0</td>\n",
       "      <td>6.29</td>\n",
       "      <td>6.360</td>\n",
       "      <td>6.06</td>\n",
       "    </tr>\n",
       "    <tr>\n",
       "      <th>3</th>\n",
       "      <td>09/06/2023</td>\n",
       "      <td>6.41</td>\n",
       "      <td>2040159.0</td>\n",
       "      <td>6.51</td>\n",
       "      <td>6.580</td>\n",
       "      <td>6.30</td>\n",
       "    </tr>\n",
       "    <tr>\n",
       "      <th>4</th>\n",
       "      <td>09/05/2023</td>\n",
       "      <td>6.53</td>\n",
       "      <td>2943792.0</td>\n",
       "      <td>6.31</td>\n",
       "      <td>6.595</td>\n",
       "      <td>6.29</td>\n",
       "    </tr>\n",
       "  </tbody>\n",
       "</table>\n",
       "</div>"
      ],
      "text/plain": [
       "         Date  Close/Last     Volume  Open   High   Low\n",
       "0  09/11/2023        6.04  3519954.0  6.26  6.350  6.03\n",
       "1  09/08/2023        6.20  2350360.0  6.30  6.335  6.14\n",
       "2  09/07/2023        6.32  2504603.0  6.29  6.360  6.06\n",
       "3  09/06/2023        6.41  2040159.0  6.51  6.580  6.30\n",
       "4  09/05/2023        6.53  2943792.0  6.31  6.595  6.29"
      ]
     },
     "execution_count": 4,
     "metadata": {},
     "output_type": "execute_result"
    }
   ],
   "source": [
    "# Check DataFrame\n",
    "rklb.head()"
   ]
  },
  {
   "cell_type": "code",
   "execution_count": 5,
   "id": "4202bd9c",
   "metadata": {},
   "outputs": [],
   "source": [
    "# Split data into X and y features\n",
    "X = rklb[['Open', 'High', 'Low', 'Volume']]  # Features\n",
    "y = rklb['Close/Last']  # Target variable\n",
    "\n",
    "# Split data into training and testing sets\n",
    "X_train, X_test, y_train, y_test = train_test_split(X, y, test_size=0.2, random_state=42)"
   ]
  },
  {
   "cell_type": "code",
   "execution_count": 6,
   "id": "3ba60c7d",
   "metadata": {},
   "outputs": [],
   "source": [
    "# Drop NA\n",
    "X_train = X_train.dropna()\n",
    "y_train = y_train[X_train.index]\n",
    "X_test = X_test.dropna()\n",
    "y_test = y_test[X_test.index]"
   ]
  },
  {
   "cell_type": "code",
   "execution_count": 7,
   "id": "b645c010",
   "metadata": {},
   "outputs": [
    {
     "data": {
      "text/html": [
       "<style>#sk-container-id-1 {color: black;background-color: white;}#sk-container-id-1 pre{padding: 0;}#sk-container-id-1 div.sk-toggleable {background-color: white;}#sk-container-id-1 label.sk-toggleable__label {cursor: pointer;display: block;width: 100%;margin-bottom: 0;padding: 0.3em;box-sizing: border-box;text-align: center;}#sk-container-id-1 label.sk-toggleable__label-arrow:before {content: \"▸\";float: left;margin-right: 0.25em;color: #696969;}#sk-container-id-1 label.sk-toggleable__label-arrow:hover:before {color: black;}#sk-container-id-1 div.sk-estimator:hover label.sk-toggleable__label-arrow:before {color: black;}#sk-container-id-1 div.sk-toggleable__content {max-height: 0;max-width: 0;overflow: hidden;text-align: left;background-color: #f0f8ff;}#sk-container-id-1 div.sk-toggleable__content pre {margin: 0.2em;color: black;border-radius: 0.25em;background-color: #f0f8ff;}#sk-container-id-1 input.sk-toggleable__control:checked~div.sk-toggleable__content {max-height: 200px;max-width: 100%;overflow: auto;}#sk-container-id-1 input.sk-toggleable__control:checked~label.sk-toggleable__label-arrow:before {content: \"▾\";}#sk-container-id-1 div.sk-estimator input.sk-toggleable__control:checked~label.sk-toggleable__label {background-color: #d4ebff;}#sk-container-id-1 div.sk-label input.sk-toggleable__control:checked~label.sk-toggleable__label {background-color: #d4ebff;}#sk-container-id-1 input.sk-hidden--visually {border: 0;clip: rect(1px 1px 1px 1px);clip: rect(1px, 1px, 1px, 1px);height: 1px;margin: -1px;overflow: hidden;padding: 0;position: absolute;width: 1px;}#sk-container-id-1 div.sk-estimator {font-family: monospace;background-color: #f0f8ff;border: 1px dotted black;border-radius: 0.25em;box-sizing: border-box;margin-bottom: 0.5em;}#sk-container-id-1 div.sk-estimator:hover {background-color: #d4ebff;}#sk-container-id-1 div.sk-parallel-item::after {content: \"\";width: 100%;border-bottom: 1px solid gray;flex-grow: 1;}#sk-container-id-1 div.sk-label:hover label.sk-toggleable__label {background-color: #d4ebff;}#sk-container-id-1 div.sk-serial::before {content: \"\";position: absolute;border-left: 1px solid gray;box-sizing: border-box;top: 0;bottom: 0;left: 50%;z-index: 0;}#sk-container-id-1 div.sk-serial {display: flex;flex-direction: column;align-items: center;background-color: white;padding-right: 0.2em;padding-left: 0.2em;position: relative;}#sk-container-id-1 div.sk-item {position: relative;z-index: 1;}#sk-container-id-1 div.sk-parallel {display: flex;align-items: stretch;justify-content: center;background-color: white;position: relative;}#sk-container-id-1 div.sk-item::before, #sk-container-id-1 div.sk-parallel-item::before {content: \"\";position: absolute;border-left: 1px solid gray;box-sizing: border-box;top: 0;bottom: 0;left: 50%;z-index: -1;}#sk-container-id-1 div.sk-parallel-item {display: flex;flex-direction: column;z-index: 1;position: relative;background-color: white;}#sk-container-id-1 div.sk-parallel-item:first-child::after {align-self: flex-end;width: 50%;}#sk-container-id-1 div.sk-parallel-item:last-child::after {align-self: flex-start;width: 50%;}#sk-container-id-1 div.sk-parallel-item:only-child::after {width: 0;}#sk-container-id-1 div.sk-dashed-wrapped {border: 1px dashed gray;margin: 0 0.4em 0.5em 0.4em;box-sizing: border-box;padding-bottom: 0.4em;background-color: white;}#sk-container-id-1 div.sk-label label {font-family: monospace;font-weight: bold;display: inline-block;line-height: 1.2em;}#sk-container-id-1 div.sk-label-container {text-align: center;}#sk-container-id-1 div.sk-container {/* jupyter's `normalize.less` sets `[hidden] { display: none; }` but bootstrap.min.css set `[hidden] { display: none !important; }` so we also need the `!important` here to be able to override the default hidden behavior on the sphinx rendered scikit-learn.org. See: https://github.com/scikit-learn/scikit-learn/issues/21755 */display: inline-block !important;position: relative;}#sk-container-id-1 div.sk-text-repr-fallback {display: none;}</style><div id=\"sk-container-id-1\" class=\"sk-top-container\"><div class=\"sk-text-repr-fallback\"><pre>LinearRegression()</pre><b>In a Jupyter environment, please rerun this cell to show the HTML representation or trust the notebook. <br />On GitHub, the HTML representation is unable to render, please try loading this page with nbviewer.org.</b></div><div class=\"sk-container\" hidden><div class=\"sk-item\"><div class=\"sk-estimator sk-toggleable\"><input class=\"sk-toggleable__control sk-hidden--visually\" id=\"sk-estimator-id-1\" type=\"checkbox\" checked><label for=\"sk-estimator-id-1\" class=\"sk-toggleable__label sk-toggleable__label-arrow\">LinearRegression</label><div class=\"sk-toggleable__content\"><pre>LinearRegression()</pre></div></div></div></div></div>"
      ],
      "text/plain": [
       "LinearRegression()"
      ]
     },
     "execution_count": 7,
     "metadata": {},
     "output_type": "execute_result"
    }
   ],
   "source": [
    "# Create Linear Regression model\n",
    "model = LinearRegression()\n",
    "model.fit(X_train, y_train)"
   ]
  },
  {
   "cell_type": "code",
   "execution_count": 8,
   "id": "bf15e4be",
   "metadata": {},
   "outputs": [],
   "source": [
    "# Use model to make predictions\n",
    "y_pred = model.predict(X_test)"
   ]
  },
  {
   "cell_type": "code",
   "execution_count": 9,
   "id": "becd2dbd",
   "metadata": {},
   "outputs": [
    {
     "name": "stdout",
     "output_type": "stream",
     "text": [
      "The score is 0.9985144385870488.\n",
      "The r2 is 0.9985144385870488.\n",
      "The mean squared error is 0.015228298984692636.\n",
      "The root mean squared error is 0.12340299422904064.\n",
      "The standard deviation is 3.2016982039296638.\n"
     ]
    }
   ],
   "source": [
    "# Assess model performance\n",
    "score = model.score(X_test, y_test, sample_weight=None)\n",
    "r2 = r2_score(y_test, y_pred)\n",
    "mse = mean_squared_error(y_test, y_pred)\n",
    "rmse = np.sqrt(mse)\n",
    "std = np.std(y_test)\n",
    "\n",
    "# Print relevant metrics.\n",
    "print(f\"The score is {score}.\")\n",
    "print(f\"The r2 is {r2}.\")\n",
    "print(f\"The mean squared error is {mse}.\")\n",
    "print(f\"The root mean squared error is {rmse}.\")\n",
    "print(f\"The standard deviation is {std}.\")"
   ]
  },
  {
   "cell_type": "code",
   "execution_count": 10,
   "id": "3666cdf8",
   "metadata": {},
   "outputs": [],
   "source": [
    "# Next day data from 9/12/23\n",
    "next_open = 5.81\n",
    "next_high = 5.83\n",
    "next_low = 5.2724\n",
    "next_volume = 12847445\n",
    "\n",
    "# Put data in a DataFrame\n",
    "next_day_features = pd.DataFrame({\n",
    "    'Open': [next_open],\n",
    "    'High': [next_high],\n",
    "    'Low': [next_low],\n",
    "    'Volume': [next_volume]\n",
    "})"
   ]
  },
  {
   "cell_type": "code",
   "execution_count": 11,
   "id": "f661c9f0",
   "metadata": {},
   "outputs": [
    {
     "name": "stdout",
     "output_type": "stream",
     "text": [
      "The closing price of RKLB on 9/12/2023 was $5.305  Our model predicted it to be [5.40668136].\n"
     ]
    }
   ],
   "source": [
    "# Predict next day\n",
    "next_day_prediction = model.predict(next_day_features)\n",
    "\n",
    "print(f\"The closing price of RKLB on 9/12/2023 was $5.305  Our model predicted it to be {next_day_prediction}.\")"
   ]
  }
 ],
 "metadata": {
  "kernelspec": {
   "display_name": "Python 3 (ipykernel)",
   "language": "python",
   "name": "python3"
  },
  "language_info": {
   "codemirror_mode": {
    "name": "ipython",
    "version": 3
   },
   "file_extension": ".py",
   "mimetype": "text/x-python",
   "name": "python",
   "nbconvert_exporter": "python",
   "pygments_lexer": "ipython3",
   "version": "3.10.9"
  }
 },
 "nbformat": 4,
 "nbformat_minor": 5
}
